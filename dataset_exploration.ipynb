{
 "cells": [
  {
   "cell_type": "code",
   "execution_count": 3,
   "id": "50a34777-d1b9-450c-af88-a3d781bbb97d",
   "metadata": {},
   "outputs": [],
   "source": [
    "import tiktoken"
   ]
  },
  {
   "cell_type": "code",
   "execution_count": 4,
   "id": "ebe37546",
   "metadata": {},
   "outputs": [],
   "source": [
    "import os\n",
    "import numpy as np\n",
    "from tqdm import tqdm"
   ]
  },
  {
   "cell_type": "code",
   "execution_count": 5,
   "id": "b94d0225-5583-48b0-9512-193fce9e6578",
   "metadata": {},
   "outputs": [],
   "source": [
    "enc = tiktoken.get_encoding(\"cl100k_base\")"
   ]
  },
  {
   "cell_type": "code",
   "execution_count": 6,
   "id": "b52d95b8-347b-4f7c-97cc-4268a40be0a3",
   "metadata": {},
   "outputs": [
    {
     "data": {
      "text/plain": [
       "{'<|endoftext|>': 100257,\n",
       " '<|fim_prefix|>': 100258,\n",
       " '<|fim_middle|>': 100259,\n",
       " '<|fim_suffix|>': 100260,\n",
       " '<|endofprompt|>': 100276}"
      ]
     },
     "execution_count": 6,
     "metadata": {},
     "output_type": "execute_result"
    }
   ],
   "source": [
    "enc._special_tokens"
   ]
  },
  {
   "cell_type": "code",
   "execution_count": 9,
   "id": "03357280",
   "metadata": {},
   "outputs": [
    {
     "data": {
      "text/plain": [
       "100276"
      ]
     },
     "execution_count": 9,
     "metadata": {},
     "output_type": "execute_result"
    }
   ],
   "source": [
    "enc.max_token_value"
   ]
  },
  {
   "cell_type": "code",
   "execution_count": 10,
   "id": "abbe5797",
   "metadata": {},
   "outputs": [
    {
     "data": {
      "text/plain": [
       "100277"
      ]
     },
     "execution_count": 10,
     "metadata": {},
     "output_type": "execute_result"
    }
   ],
   "source": [
    "enc.n_vocab"
   ]
  },
  {
   "cell_type": "code",
   "execution_count": 16,
   "id": "5c4af66a-ecf8-4190-acb3-2bd440895040",
   "metadata": {},
   "outputs": [],
   "source": [
    "g = enc.encode(\"ગુજરાત અને ભારતમાં સ્થાન દૂધની ડેરી કપાસ, દિવેલી, શાકભાજી નિઝામપુર ભારત દેશના પશ્ચિમ\") \n",
    "#ભાગમાં આવેલા ગુજરાત રાજ્યના ઉત્તર ભાગમાં આવેલા  મહેસાણા જિલ્લામાં આવેલા કુલ ૧૦ તાલુકાઓ પૈકીના એક એવા\")"
   ]
  },
  {
   "cell_type": "code",
   "execution_count": 17,
   "id": "effff935",
   "metadata": {},
   "outputs": [
    {
     "data": {
      "text/plain": [
       "142"
      ]
     },
     "execution_count": 17,
     "metadata": {},
     "output_type": "execute_result"
    }
   ],
   "source": [
    "len(g)"
   ]
  },
  {
   "cell_type": "code",
   "execution_count": 9,
   "id": "85e1c312-9f92-4bac-85bf-0b29cc5e8b13",
   "metadata": {},
   "outputs": [
    {
     "data": {
      "text/plain": [
       "'ગુજરાત અને ભારતમાં સ્થાન'"
      ]
     },
     "execution_count": 9,
     "metadata": {},
     "output_type": "execute_result"
    }
   ],
   "source": [
    "enc.decode(enc.encode(\"ગુજરાત અને ભારતમાં સ્થાન\"))"
   ]
  },
  {
   "cell_type": "code",
   "execution_count": 18,
   "id": "5409785b",
   "metadata": {},
   "outputs": [
    {
     "data": {
      "text/plain": [
       "'�'"
      ]
     },
     "execution_count": 18,
     "metadata": {},
     "output_type": "execute_result"
    }
   ],
   "source": [
    "enc.decode([41814])"
   ]
  },
  {
   "cell_type": "code",
   "execution_count": 14,
   "id": "3414b957-8878-4d24-aae4-2a0f3c9a14cb",
   "metadata": {},
   "outputs": [],
   "source": [
    "directory_path = \"dataset_gujju\""
   ]
  },
  {
   "cell_type": "code",
   "execution_count": 16,
   "id": "37a4ced6",
   "metadata": {},
   "outputs": [],
   "source": [
    "train_folder_path = os.path.join(directory_path, \"train\")\n",
    "valid_folder_path = os.path.join(directory_path, \"valid\")\n",
    "\n",
    "train_file_paths = [os.path.join(train_folder_path, file) for file in os.listdir(train_folder_path) if file.endswith(\".txt\")]\n",
    "valid_file_paths = [os.path.join(valid_folder_path, file) for file in os.listdir(valid_folder_path) if file.endswith(\".txt\")]"
   ]
  },
  {
   "cell_type": "code",
   "execution_count": 17,
   "id": "79084dfb",
   "metadata": {},
   "outputs": [
    {
     "data": {
      "text/plain": [
       "22339"
      ]
     },
     "execution_count": 17,
     "metadata": {},
     "output_type": "execute_result"
    }
   ],
   "source": [
    "len(train_file_paths)"
   ]
  },
  {
   "cell_type": "code",
   "execution_count": 18,
   "id": "a5c52e5b",
   "metadata": {},
   "outputs": [
    {
     "data": {
      "text/plain": [
       "9574"
      ]
     },
     "execution_count": 18,
     "metadata": {},
     "output_type": "execute_result"
    }
   ],
   "source": [
    "len(valid_file_paths)"
   ]
  },
  {
   "cell_type": "code",
   "execution_count": 23,
   "id": "6e08973e",
   "metadata": {},
   "outputs": [],
   "source": [
    "def load_and_tokenize(file_path, tokenizer=None):\n",
    "    with open(file_path, 'r', encoding='utf-8') as file:\n",
    "        text = file.read()\n",
    "        tokens = tokenizer.encode(text)\n",
    "    return tokens"
   ]
  },
  {
   "cell_type": "code",
   "execution_count": 25,
   "id": "b02831b6",
   "metadata": {},
   "outputs": [
    {
     "data": {
      "text/plain": [
       "797"
      ]
     },
     "execution_count": 25,
     "metadata": {},
     "output_type": "execute_result"
    }
   ],
   "source": [
    "l = load_and_tokenize(train_file_paths[0],enc)\n",
    "len(l)"
   ]
  },
  {
   "cell_type": "code",
   "execution_count": 44,
   "metadata": {},
   "outputs": [
    {
     "data": {
      "text/plain": [
       "'ગુજરાત અને ભારતમાં સ્થાન\\nદૂધની ડેરી\\nકપાસ, દિવેલી, શાકભાજી\\nનિઝામપુર ભારત દેશના પશ્ચિમ ભાગમાં આવેલા ગુજરાત રાજ્યના ઉત્તર ભાગમાં આવેલા  મહેસાણા જિલ્લામાં આવેલા કુલ ૧૦ તાલુકાઓ પૈકીના એક એવા સતલાસણા તાલુકામાં આવેલું એક ગામ છે. નિઝામપુર ગામના લોકોનો મુખ્ય વ્યવસાય ખેતી, ખેતમજૂરી તેમ જ પશુપાલન છે. આ ગામમાં મુખ્યત્વે ઘઉં, જીરુ, વરિયાળી, બાજરી, કપાસ, દિવેલી તેમ જ શાકભાજીના પાકની ખેતી કરવામાં આવે છે. આ ગામમાં પ્રાથમિક શાળા, પંચાયતઘર, આંગણવાડી તેમ જ દૂધની ડેરી જેવી સવલતો પ્રાપ્ય થયેલી છે.\\n'"
      ]
     },
     "execution_count": 44,
     "metadata": {},
     "output_type": "execute_result"
    }
   ],
   "source": [
    "enc.decode(np.load(\"tokenized_data/train/0.npy\"))"
   ]
  },
  {
   "cell_type": "code",
   "execution_count": 46,
   "id": "62ff7233",
   "metadata": {},
   "outputs": [
    {
     "data": {
      "text/plain": [
       "'ચામરાજનગર ભારત દેશના દક્ષિણ ભાગમાં આવેલા કર્ણાટક રાજ્યના ચામરાજનગર જિલ્લામાં આવેલું એક નગર છે. ચામરાજનગરમાં ચામરાજનગર જિલ્લાનું મુખ્યાલય છે. \\n'"
      ]
     },
     "execution_count": 46,
     "metadata": {},
     "output_type": "execute_result"
    }
   ],
   "source": [
    "enc.decode(np.load(\"tokenized_data/valid/3.npy\"))"
   ]
  },
  {
   "cell_type": "code",
   "execution_count": 47,
   "id": "210a2801",
   "metadata": {},
   "outputs": [
    {
     "data": {
      "text/plain": [
       "243"
      ]
     },
     "execution_count": 47,
     "metadata": {},
     "output_type": "execute_result"
    }
   ],
   "source": [
    "len(np.load(\"tokenized_data/valid/3.npy\"))"
   ]
  },
  {
   "cell_type": "code",
   "execution_count": 53,
   "id": "64cd58ed",
   "metadata": {},
   "outputs": [
    {
     "name": "stderr",
     "output_type": "stream",
     "text": [
      "100%|██████████| 22339/22339 [00:26<00:00, 846.14it/s] \n"
     ]
    },
    {
     "data": {
      "text/plain": [
       "48066255"
      ]
     },
     "execution_count": 53,
     "metadata": {},
     "output_type": "execute_result"
    }
   ],
   "source": [
    "\n",
    "train_array = []\n",
    "for i in tqdm(range(len(train_file_paths))):\n",
    "    \n",
    "    l = load_and_tokenize(train_file_paths[i],enc)\n",
    "    train_array.extend(l)\n",
    "    \n",
    "len(train_array)\n"
   ]
  },
  {
   "cell_type": "code",
   "execution_count": 51,
   "id": "d7a74ee1",
   "metadata": {},
   "outputs": [
    {
     "data": {
      "text/plain": [
       "48066255"
      ]
     },
     "execution_count": 51,
     "metadata": {},
     "output_type": "execute_result"
    }
   ],
   "source": [
    "len(train_array)"
   ]
  },
  {
   "cell_type": "code",
   "execution_count": 54,
   "id": "749c7982",
   "metadata": {},
   "outputs": [],
   "source": [
    "np.save(\"data_arrays/train.npy\", train_array)"
   ]
  },
  {
   "cell_type": "code",
   "execution_count": 55,
   "id": "143b880b",
   "metadata": {},
   "outputs": [
    {
     "name": "stderr",
     "output_type": "stream",
     "text": [
      "100%|██████████| 9574/9574 [00:11<00:00, 851.02it/s] \n"
     ]
    },
    {
     "data": {
      "text/plain": [
       "20236283"
      ]
     },
     "execution_count": 55,
     "metadata": {},
     "output_type": "execute_result"
    }
   ],
   "source": [
    "\n",
    "valid_array = []\n",
    "for i in tqdm(range(len(valid_file_paths))):\n",
    "    \n",
    "    l = load_and_tokenize(valid_file_paths[i],enc)\n",
    "    valid_array.extend(l)\n",
    "    \n",
    "len(valid_array)\n"
   ]
  },
  {
   "cell_type": "code",
   "execution_count": 56,
   "id": "c572fc39",
   "metadata": {},
   "outputs": [],
   "source": [
    "np.save(\"data_arrays/valid.npy\", valid_array)"
   ]
  },
  {
   "cell_type": "code",
   "execution_count": 2,
   "id": "6daaaedf",
   "metadata": {},
   "outputs": [
    {
     "name": "stdout",
     "output_type": "stream",
     "text": [
      "10000\n"
     ]
    }
   ],
   "source": [
    "import numpy as np\n",
    "\n",
    "# Generate a numpy array with 10,000 elements in the range [0, 100]\n",
    "array = np.random.randint(0, 101, 10000)\n",
    "\n",
    "# Print or use the array as needed\n",
    "print(len(array))\n",
    "\n",
    "# If you want to save the array to a file (e.g., in a text file):\n",
    "np.save('array1_data.npy', array)\n"
   ]
  },
  {
   "cell_type": "code",
   "execution_count": 3,
   "id": "aa4afb9c",
   "metadata": {},
   "outputs": [
    {
     "data": {
      "text/plain": [
       "100"
      ]
     },
     "execution_count": 3,
     "metadata": {},
     "output_type": "execute_result"
    }
   ],
   "source": [
    "np.max(array)"
   ]
  },
  {
   "cell_type": "code",
   "execution_count": 4,
   "id": "38d842cb",
   "metadata": {},
   "outputs": [
    {
     "name": "stdout",
     "output_type": "stream",
     "text": [
      "5000\n"
     ]
    }
   ],
   "source": [
    "import numpy as np\n",
    "\n",
    "# Generate a numpy array with 10,000 elements in the range [0, 100]\n",
    "array = np.random.randint(0, 101, 5000)\n",
    "\n",
    "# Print or use the array as needed\n",
    "print(len(array))\n",
    "\n",
    "# If you want to save the array to a file (e.g., in a text file):\n",
    "np.save('array2_data.npy', array)\n"
   ]
  },
  {
   "cell_type": "code",
   "execution_count": 16,
   "id": "3bdae45c",
   "metadata": {},
   "outputs": [
    {
     "name": "stdout",
     "output_type": "stream",
     "text": [
      "Combination completed. Result saved to dataset/valid_combined.txt\n"
     ]
    }
   ],
   "source": [
    "import os\n",
    "\n",
    "# Set the path to your directory\n",
    "directory_path = 'dataset_gujju'\n",
    "\n",
    "# Set the name of the output file\n",
    "output_file_path = 'dataset/valid_combined.txt'\n",
    "\n",
    "# List all files in the \"train\" folder\n",
    "train_folder_path = os.path.join(directory_path, 'valid')\n",
    "train_files = [f for f in os.listdir(train_folder_path) if os.path.isfile(os.path.join(train_folder_path, f))]\n",
    "\n",
    "# Open the output file for writing\n",
    "with open(output_file_path, 'w', encoding='utf-8') as output_file:\n",
    "    # Iterate through each file in the \"train\" folder\n",
    "    for train_file in train_files:\n",
    "        # Read the content of each file and write it to the output file\n",
    "        file_path = os.path.join(train_folder_path, train_file)\n",
    "        with open(file_path, 'r', encoding='utf-8') as input_file:\n",
    "            file_content = input_file.read()\n",
    "            output_file.write(file_content)\n",
    "            # Add a newline between files (optional)\n",
    "            output_file.write('\\n')\n",
    "\n",
    "print(f'Combination completed. Result saved to {output_file_path}')\n"
   ]
  },
  {
   "cell_type": "code",
   "execution_count": 1,
   "id": "afeb9458",
   "metadata": {},
   "outputs": [
    {
     "name": "stderr",
     "output_type": "stream",
     "text": [
      "e:\\ml\\Gujju-GPT\\gujjugpt-venv\\Lib\\site-packages\\tqdm\\auto.py:21: TqdmWarning: IProgress not found. Please update jupyter and ipywidgets. See https://ipywidgets.readthedocs.io/en/stable/user_install.html\n",
      "  from .autonotebook import tqdm as notebook_tqdm\n"
     ]
    }
   ],
   "source": [
    "from transformers import AutoTokenizer"
   ]
  },
  {
   "cell_type": "code",
   "execution_count": 2,
   "id": "84734d00",
   "metadata": {},
   "outputs": [],
   "source": [
    "tokenizer = AutoTokenizer.from_pretrained(\"tokenizer/Gujju-GPT\")"
   ]
  },
  {
   "cell_type": "code",
   "execution_count": 4,
   "id": "d108e5da",
   "metadata": {},
   "outputs": [
    {
     "data": {
      "text/plain": [
       "{'input_ids': [286, 274, 330, 260, 268, 301, 261, 313, 260, 399, 276, 278, 263, 293, 260, 264, 305, 309, 373, 265, 336, 261, 262, 265, 447, 260, 280, 12, 305, 273, 269, 261, 275, 329, 315, 260, 418, 260, 289, 265, 306, 273, 372, 260, 1217, 274, 262, 313, 260, 323, 305, 261, 347, 260, 349, 263, 311, 273, 267], 'attention_mask': [1, 1, 1, 1, 1, 1, 1, 1, 1, 1, 1, 1, 1, 1, 1, 1, 1, 1, 1, 1, 1, 1, 1, 1, 1, 1, 1, 1, 1, 1, 1, 1, 1, 1, 1, 1, 1, 1, 1, 1, 1, 1, 1, 1, 1, 1, 1, 1, 1, 1, 1, 1, 1, 1, 1, 1, 1, 1, 1]}"
      ]
     },
     "execution_count": 4,
     "metadata": {},
     "output_type": "execute_result"
    }
   ],
   "source": [
    "tokenizer(\"ગુજરાત અને ભારતમાં સ્થાન દૂધની ડેરી કપાસ, દિવેલી, શાકભાજી નિઝામપુર ભારત દેશના પશ્ચિમ\") "
   ]
  },
  {
   "cell_type": "code",
   "execution_count": null,
   "id": "972e0961",
   "metadata": {},
   "outputs": [],
   "source": [
    "train_array = []\n",
    "for i in tqdm(range(len(train_file_paths))):\n",
    "    \n",
    "    l = load_and_tokenize(train_file_paths[i],enc)\n",
    "    train_array.extend(l)\n",
    "    \n",
    "len(train_array)\n",
    "np.save(\"data_arrays/train.npy\", train_array)"
   ]
  }
 ],
 "metadata": {
  "kernelspec": {
   "display_name": "Python 3 (ipykernel)",
   "language": "python",
   "name": "python3"
  },
  "language_info": {
   "codemirror_mode": {
    "name": "ipython",
    "version": 3
   },
   "file_extension": ".py",
   "mimetype": "text/x-python",
   "name": "python",
   "nbconvert_exporter": "python",
   "pygments_lexer": "ipython3",
   "version": "3.11.4"
  }
 },
 "nbformat": 4,
 "nbformat_minor": 5
}
